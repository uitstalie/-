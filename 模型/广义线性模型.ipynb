{
 "cells": [
  {
   "cell_type": "code",
   "execution_count": 1,
   "metadata": {},
   "outputs": [],
   "source": [
    "import matplotlib.pyplot as plt\n",
    "import numpy as np\n",
    "from sklearn import datasets, linear_model\n",
    "from sklearn.metrics import mean_squared_error, r2_score\n",
    "from sklearn.model_selection import cross_val_score\n",
    "from sklearn.model_selection import train_test_split\n",
    "from sklearn.preprocessing import StandardScaler\n",
    "data = datasets.fetch_california_housing() #加利福尼亚房价数据集\n",
    "x_train,x_test,y_train,y_test = train_test_split(data.data,data.target,test_size = 0.2,random_state =20)"
   ]
  },
  {
   "cell_type": "markdown",
   "metadata": {},
   "source": [
    "test_size：float or int, default=None\n",
    "测试集的大小，如果是小数的话，值在（0,1）之间，表示测试集所占有的比例.如果是整数，表示的是测试集的具体样本数；\n",
    "如果train_size也是None的话，会有一个默认值0.25\n",
    "\n",
    "train_size：float or int, default=None\n",
    "和test_size一样，同上\n",
    "\n",
    "random_state：int or RandomState instance, default=None\n",
    "这个参数表示随机状态，因为每次分割都是随机的.\n",
    "\n",
    "shuffle: bool, default=True\n",
    "是否重洗数据（洗牌），就是说在分割数据前，是否把数据打散重新排序这样子，看上面我们分割完的数据，都不是原始数据集的顺序，默认是要重洗的"
   ]
  },
  {
   "cell_type": "code",
   "execution_count": 2,
   "metadata": {},
   "outputs": [],
   "source": [
    "st = StandardScaler()\n",
    "st.fit(x_train)\n",
    "x_train = st.transform(x_train)\n",
    "x_test = st.transform(x_test)"
   ]
  },
  {
   "cell_type": "markdown",
   "metadata": {},
   "source": [
    "![](20210218093055105.png)"
   ]
  },
  {
   "cell_type": "code",
   "execution_count": 3,
   "metadata": {},
   "outputs": [
    {
     "name": "stdout",
     "output_type": "stream",
     "text": [
      "系数：\n",
      " [ 0.83275185  0.1173856  -0.27597663  0.29900186 -0.00795271 -0.03963673\n",
      " -0.88241635 -0.85338011]\n",
      "截距：\n",
      " 2.0678235537788865\n",
      "决定系数(越接近一意味着模型的线性程度越好，如果为负数，那就意味着跟瞎jb猜差距不大)：\n",
      " 0.6121654293404898\n"
     ]
    }
   ],
   "source": [
    "regr = linear_model.LinearRegression()\n",
    "regr.fit(x_train, y_train)\n",
    "\n",
    "y_pred = regr.predict(x_test)\n",
    "print(\"系数：\\n\",regr.coef_)\n",
    "print(\"截距：\\n\",regr.intercept_)\n",
    "print(\"决定系数(越接近一意味着模型的线性程度越好，如果为负数，那就意味着跟瞎jb猜差距不大)：\\n\",r2_score(y_test,y_pred))\n"
   ]
  },
  {
   "cell_type": "code",
   "execution_count": 4,
   "metadata": {},
   "outputs": [
    {
     "data": {
      "image/png": "[encoded data removed]",
      "text/plain": [
       "<Figure size 432x288 with 1 Axes>"
      ]
     },
     "metadata": {
      "needs_background": "light"
     },
     "output_type": "display_data"
    }
   ],
   "source": [
    "\n",
    "\n",
    "alpha = np.arange(1,201,10)\n",
    "\n",
    "lr = []\n",
    "for a in alpha:\n",
    "    linear = linear_model.LinearRegression()\n",
    "    linears = cross_val_score(linear,data.data,data.target,cv = 5,scoring = \"r2\").mean();\n",
    "    lr.append(linears)\n",
    "\n",
    "plt.plot(alpha,lr,color=\"orange\",label=\"LR\")\n",
    "plt.title(\"Mean\")\n",
    "plt.legend()\n",
    "plt.show()\n",
    "#这里是进行全局交叉验证得到的R方值.和上面的那个根据部分数据得到的R方意义不同"
   ]
  },
  {
   "cell_type": "markdown",
   "metadata": {},
   "source": [
    "https://blog.csdn.net/HiWangWenBing/article/details/124413449\n",
    "这篇文章给出了数学解释和用法"
   ]
  },
  {
   "cell_type": "code",
   "execution_count": 5,
   "metadata": {},
   "outputs": [
    {
     "data": {
      "image/png": "[encoded data removed]",
      "text/plain": [
       "<Figure size 432x288 with 1 Axes>"
      ]
     },
     "metadata": {
      "needs_background": "light"
     },
     "output_type": "display_data"
    }
   ],
   "source": [
    "plt.plot(range(len(y_test)),sorted(y_test),c=\"black\",label= \"Data\")\n",
    "plt.plot(range(len(y_pred)),sorted(y_pred),c=\"red\",label = \"Predict\")\n",
    "plt.legend()\n",
    "plt.show()\n",
    "#这个是根据训练集得到的模型做出的预测与真正的测试集的比较图，可以看到这拟合的是个锤子"
   ]
  }
 ],
 "metadata": {
  "interpreter": {
   "hash": "b667cebad148e7b094a58ee81f940c685de1dd70a003a9ccdca4a5792431bee5"
  },
  "kernelspec": {
   "display_name": "Python 3.9.1 64-bit",
   "language": "python",
   "name": "python3"
  },
  "language_info": {
   "codemirror_mode": {
    "name": "ipython",
    "version": 3
   },
   "file_extension": ".py",
   "mimetype": "text/x-python",
   "name": "python",
   "nbconvert_exporter": "python",
   "pygments_lexer": "ipython3",
   "version": "3.9.1"
  },
  "orig_nbformat": 4
 },
 "nbformat": 4,
 "nbformat_minor": 2
}
