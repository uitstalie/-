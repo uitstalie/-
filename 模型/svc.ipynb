{
 "cells": [
  {
   "cell_type": "markdown",
   "metadata": {},
   "source": [
    "SVC, NuSVC 和 LinearSVC 能在数据集中实现多元分类."
   ]
  },
  {
   "cell_type": "code",
   "execution_count": 1,
   "metadata": {},
   "outputs": [],
   "source": [
    "import matplotlib.pyplot as plt\n",
    "import numpy as np\n",
    "from sklearn import datasets,svm\n",
    "from sklearn.model_selection import train_test_split\n",
    "from sklearn.model_selection import GridSearchCV,RandomizedSearchCV\n",
    "from sklearn.metrics import accuracy_score\n",
    "from sklearn.preprocessing import MinMaxScaler\n",
    "data = datasets.load_iris() #鸢尾花数据集\n",
    "sc = MinMaxScaler(feature_range = (0,1))\n",
    "X = data.data\n",
    "Y = data.target\n",
    "X = sc.fit_transform(X)\n",
    "x_train,x_test,y_train,y_test = train_test_split(X,Y,test_size = 0.2,random_state =25)\n"
   ]
  },
  {
   "cell_type": "code",
   "execution_count": 2,
   "metadata": {},
   "outputs": [],
   "source": [
    "param_grid = [{'C':[0.001,0.01,0.1,1,10,100],'kernel':['linear']},{'C':[0.001,0.01,0.1,1,10,100],'kernel':['rbf'],'gamma':[1,0.1,0.01,0.001,0.0001]}]\n"
   ]
  },
  {
   "cell_type": "markdown",
   "metadata": {},
   "source": [
    "C : float, optional (default=1.0)\n",
    "\n",
    "    误差项的惩罚参数，一般取值为10的n次幂，如10的-5次幂，10的-4次幂。。。。10的0次幂，10，1000,1000，在python中可以使用pow（10，n） n=-5~inf\n",
    "    C越大，相当于惩罚松弛变量，希望松弛变量接近0，即对误分类的惩罚增大，趋向于对训练集全分对的情况，这样会出现训练集测试时准确率很高，但泛化能力弱。\n",
    "    C值小，对误分类的惩罚减小，容错能力增强，泛化能力较强。\n",
    "\n",
    "kernel : string, optional (default=’rbf’)\n",
    "\n",
    "    svc中指定的kernel类型。\n",
    "    可以是： ‘linear’, ‘poly’, ‘rbf’, ‘sigmoid’, ‘precomputed’ 或者自己指定。 默认使用‘rbf’ 。\n",
    "\n",
    "degree : int, optional (default=3)\n",
    "\n",
    "    当指定kernel为 ‘poly’时，表示选择的多项式的最高次数，默认为三次多项式。\n",
    "    若指定kernel不是‘poly’,则忽略，即该参数只对‘poly’有作用。\n",
    "\n",
    "gamma : float, optional (default=’auto’)\n",
    "\n",
    "    当kernel为‘rbf’, ‘poly’或‘sigmoid’时的kernel系数。\n",
    "    如果不设置，默认为 ‘auto’ ，此时，kernel系数设置为：1/n_features\n",
    "\n",
    "coef0 : float, optional (default=0.0)\n",
    "\n",
    "    kernel函数的常数项。\n",
    "    只有在 kernel为‘poly’或‘sigmoid’时有效，默认为0。\n",
    "  \n",
    "https://www.cnblogs.com/ltkekeli1229/p/15683201.html"
   ]
  },
  {
   "cell_type": "code",
   "execution_count": 3,
   "metadata": {},
   "outputs": [
    {
     "name": "stdout",
     "output_type": "stream",
     "text": [
      "SVC(C=10, kernel='linear', probability=True)\n",
      "0.9\n"
     ]
    }
   ],
   "source": [
    "clr = svm.SVC(kernel = \"linear\",probability=True)\n",
    "grid = RandomizedSearchCV(clr,param_grid,cv = 10)\n",
    "grid.fit(x_train,y_train)\n",
    "print(grid.best_estimator_)\n",
    "best_clr = grid.best_estimator_\n",
    "y_pred = best_clr.predict(x_test)\n",
    "print(best_clr.score(x_test, y_test))\n",
    "\n"
   ]
  }
 ],
 "metadata": {
  "interpreter": {
   "hash": "b667cebad148e7b094a58ee81f940c685de1dd70a003a9ccdca4a5792431bee5"
  },
  "kernelspec": {
   "display_name": "Python 3.9.1 64-bit",
   "language": "python",
   "name": "python3"
  },
  "language_info": {
   "codemirror_mode": {
    "name": "ipython",
    "version": 3
   },
   "file_extension": ".py",
   "mimetype": "text/x-python",
   "name": "python",
   "nbconvert_exporter": "python",
   "pygments_lexer": "ipython3",
   "version": "3.9.1"
  },
  "orig_nbformat": 4
 },
 "nbformat": 4,
 "nbformat_minor": 2
}
