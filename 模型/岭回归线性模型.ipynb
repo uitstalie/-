{
 "cells": [
  {
   "cell_type": "markdown",
   "metadata": {},
   "source": [
    "sklearn中的线性回归的类仅有四个参数，且都不是必填项，说明线性回归的性能往往取决于数据本身，而非我们的调参能力，线性回归对数据有着很高的要求。\n",
    "\n",
    "三种回归的适用情况：\n",
    "\n",
    "线性回归，适用于变量之间不存在多重共线性的情况\n",
    "岭回归和Lasso回归，适用于变量之间存在多重共线性的情况。由于正常情况下能上传的数据集一般都处理过了，出现严重的多重共线性几乎不可能。"
   ]
  },
  {
   "cell_type": "code",
   "execution_count": 1,
   "metadata": {},
   "outputs": [],
   "source": [
    "import matplotlib.pyplot as plt\n",
    "import numpy as np\n",
    "from sklearn import datasets, linear_model\n",
    "from sklearn.metrics import mean_squared_error, r2_score\n",
    "from sklearn.model_selection import cross_val_score\n",
    "from sklearn.model_selection import train_test_split\n",
    "from sklearn.model_selection import GridSearchCV\n",
    "from sklearn.preprocessing import StandardScaler\n",
    "data = datasets.fetch_california_housing() #加利福尼亚房价数据集\n",
    "x_train,x_test,y_train,y_test = train_test_split(data.data,data.target,test_size = 0.2,random_state =25)\n"
   ]
  },
  {
   "cell_type": "code",
   "execution_count": 2,
   "metadata": {},
   "outputs": [],
   "source": [
    "st = StandardScaler()\n",
    "st.fit(x_train)\n",
    "x_train = st.transform(x_train)\n",
    "x_test = st.transform(x_test)"
   ]
  },
  {
   "cell_type": "code",
   "execution_count": 3,
   "metadata": {},
   "outputs": [
    {
     "name": "stdout",
     "output_type": "stream",
     "text": [
      "0.6060251767338417\n",
      "101\n"
     ]
    }
   ],
   "source": [
    "#model = linear_model.Ridge(alpha=0.5)\n",
    "model = linear_model.RidgeCV(alphas=np.arange(1,1001,100),store_cv_values=True)\n",
    "#采用带交叉验证的岭回归，alphas就是测试的alpha值的元组，最后会得到最佳的alpha值。\n",
    "model.fit(data.data,data.target)\n",
    "print(model.score(data.data,data.target))\n",
    "#这里是不进行交叉验证的R方系数\n",
    "print(model.alpha_)\n",
    "\n"
   ]
  },
  {
   "cell_type": "code",
   "execution_count": 6,
   "metadata": {},
   "outputs": [
    {
     "name": "stdout",
     "output_type": "stream",
     "text": [
      "Ridge(alpha=101)\n",
      "0.5534051512001912\n"
     ]
    },
    {
     "data": {
      "image/png": "[encoded data removed]",
      "text/plain": [
       "<Figure size 432x288 with 1 Axes>"
      ]
     },
     "metadata": {
      "needs_background": "light"
     },
     "output_type": "display_data"
    }
   ],
   "source": [
    "alpharange = np.arange(1,1001,100)\n",
    "ridge, lr = [], []\n",
    "for alpha in alpharange:\n",
    "    reg = linear_model.Ridge(alpha=alpha)\n",
    "    linear = linear_model.LinearRegression()\n",
    "    regs = cross_val_score(reg,data.data,data.target,cv=5,scoring = \"r2\").mean()\n",
    "    linears = cross_val_score(linear,data.data,data.target,cv=5,scoring = \"r2\").mean()\n",
    "    ridge.append(regs)\n",
    "    lr.append(linears)\n",
    "#这一大堆其实就是手动写了一个暴力搜索的交叉验证找alpha的最佳值并绘图\n",
    "\n",
    "param_grid = {'alpha':np.arange(1,1001,100)}\n",
    "model = linear_model.Ridge()\n",
    "gridsearch = GridSearchCV(model,param_grid,n_jobs = -1,scoring = \"r2\")\n",
    "gridsearch.fit(data.data,data.target)\n",
    "print(gridsearch.best_estimator_)\n",
    "print(gridsearch.best_score_)\n",
    "#在此处使用girdsearch结果基本一样。\n",
    "\n",
    "plt.plot(alpharange,ridge,color=\"red\",label=\"Ridge\")\n",
    "maxidx = np.argmax(ridge)\n",
    "plt.plot(alpharange,lr,color=\"orange\",label=\"LR\")\n",
    "show_max = str(alpharange[maxidx])+\" , \"+str(ridge[maxidx])\n",
    "plt.annotate(show_max,xytext = (maxidx,ridge[maxidx]),xy = (maxidx,ridge[maxidx]))\n",
    "plt.title(\"Mean\")\n",
    "plt.legend()\n",
    "plt.show()\n"
   ]
  },
  {
   "cell_type": "markdown",
   "metadata": {},
   "source": [
    "可以看到即使是最高值也比LR的交叉高不到哪里去。"
   ]
  }
 ],
 "metadata": {
  "interpreter": {
   "hash": "b667cebad148e7b094a58ee81f940c685de1dd70a003a9ccdca4a5792431bee5"
  },
  "kernelspec": {
   "display_name": "Python 3.9.1 64-bit",
   "language": "python",
   "name": "python3"
  },
  "language_info": {
   "codemirror_mode": {
    "name": "ipython",
    "version": 3
   },
   "file_extension": ".py",
   "mimetype": "text/x-python",
   "name": "python",
   "nbconvert_exporter": "python",
   "pygments_lexer": "ipython3",
   "version": "3.9.1"
  },
  "orig_nbformat": 4
 },
 "nbformat": 4,
 "nbformat_minor": 2
}
