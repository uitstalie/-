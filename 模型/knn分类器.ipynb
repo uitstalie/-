{
 "cells": [
  {
   "cell_type": "markdown",
   "metadata": {},
   "source": [
    "K最邻近(k-Nearest Neighbors，KNN)分类是一种监督式的分类方法.\n",
    "首先根据已标记的数据对模型进行训练，然后根据模型对新的数据点进行预测.\n",
    "预测新数据点的标签(label)，也就是该数据所属的分类。"
   ]
  },
  {
   "cell_type": "code",
   "execution_count": 1,
   "metadata": {},
   "outputs": [],
   "source": [
    "import matplotlib.pyplot as plt\n",
    "import numpy as np\n",
    "from sklearn import datasets,neighbors\n",
    "from sklearn.model_selection import train_test_split\n",
    "from sklearn.model_selection import GridSearchCV,RandomizedSearchCV\n",
    "from sklearn.metrics import accuracy_score\n",
    "from sklearn.preprocessing import StandardScaler\n",
    "data = datasets.load_iris() #鸢尾花数据集\n",
    "x_train,x_test,y_train,y_test = train_test_split(data.data,data.target,test_size = 0.2,random_state =25)"
   ]
  },
  {
   "cell_type": "code",
   "execution_count": 2,
   "metadata": {},
   "outputs": [],
   "source": [
    "st = StandardScaler()\n",
    "st.fit(x_train)\n",
    "x_train = st.transform(x_train)\n",
    "x_test = st.transform(x_test)"
   ]
  },
  {
   "cell_type": "code",
   "execution_count": 3,
   "metadata": {},
   "outputs": [
    {
     "name": "stdout",
     "output_type": "stream",
     "text": [
      "0.9666666666666667\n",
      "0.9666666666666667\n"
     ]
    }
   ],
   "source": [
    "knn = neighbors.KNeighborsClassifier(n_neighbors = 6)\n",
    "knn.fit(x_train,y_train)\n",
    "y_pred = knn.predict(x_test)\n",
    "print(accuracy_score(y_test,y_pred))\n",
    "print(knn.score(x_test,y_test))\n"
   ]
  },
  {
   "cell_type": "code",
   "execution_count": 4,
   "metadata": {},
   "outputs": [
    {
     "name": "stdout",
     "output_type": "stream",
     "text": [
      "网格搜索-最佳度量值: 0.9800000000000001\n",
      "网格搜索-最佳参数： {'n_neighbors': 13, 'weights': 'uniform'}\n",
      "网格搜索-最佳模型： KNeighborsClassifier(n_neighbors=13)\n"
     ]
    }
   ],
   "source": [
    "param_grid = {\"n_neighbors\":range(1,25),\"weights\":[\"uniform\",\"distance\"]}\n",
    "kn = neighbors.KNeighborsClassifier(n_neighbors = 5)\n",
    "grid = GridSearchCV(kn,param_grid,cv = 10,scoring = \"accuracy\")\n",
    "grid.fit(data.data,data.target)\n",
    "\n",
    "print('网格搜索-最佳度量值:',grid.best_score_)  # 获取最佳度量值\n",
    "print('网格搜索-最佳参数：',grid.best_params_)  # 获取最佳度量值时的代定参数的值。是一个字典\n",
    "print('网格搜索-最佳模型：',grid.best_estimator_)  # 获取最佳度量时的分类器模型"
   ]
  },
  {
   "cell_type": "code",
   "execution_count": 5,
   "metadata": {},
   "outputs": [
    {
     "name": "stdout",
     "output_type": "stream",
     "text": [
      "随机搜索-最佳度量值: 0.9666666666666666\n",
      "随机搜索-最佳参数： {'weights': 'distance', 'n_neighbors': 17, 'metric': 'euclidean'}\n",
      "随机搜索-最佳模型： KNeighborsClassifier(metric='euclidean', n_neighbors=17, weights='distance')\n"
     ]
    }
   ],
   "source": [
    "param_grid = {\"n_neighbors\":range(1,25),\"weights\":[\"uniform\",\"distance\"],'metric': ['euclidean','manhattan','chebyshev','minkowski']}\n",
    "kn = neighbors.KNeighborsClassifier(n_neighbors = 5)\n",
    "grid = RandomizedSearchCV(kn,param_grid,cv = 10,scoring = \"accuracy\")\n",
    "grid.fit(x_train,y_train)\n",
    "\n",
    "print('随机搜索-最佳度量值:',grid.best_score_)  # 获取最佳度量值\n",
    "print('随机搜索-最佳参数：',grid.best_params_)  # 获取最佳度量值时的代定参数的值。是一个字典\n",
    "print('随机搜索-最佳模型：',grid.best_estimator_)  # 获取最佳度量时的分类器模型"
   ]
  }
 ],
 "metadata": {
  "interpreter": {
   "hash": "b667cebad148e7b094a58ee81f940c685de1dd70a003a9ccdca4a5792431bee5"
  },
  "kernelspec": {
   "display_name": "Python 3.9.1 64-bit",
   "language": "python",
   "name": "python3"
  },
  "language_info": {
   "codemirror_mode": {
    "name": "ipython",
    "version": 3
   },
   "file_extension": ".py",
   "mimetype": "text/x-python",
   "name": "python",
   "nbconvert_exporter": "python",
   "pygments_lexer": "ipython3",
   "version": "3.9.1"
  },
  "orig_nbformat": 4
 },
 "nbformat": 4,
 "nbformat_minor": 2
}
