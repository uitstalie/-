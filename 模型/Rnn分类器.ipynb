{
 "cells": [
  {
   "cell_type": "code",
   "execution_count": 6,
   "metadata": {},
   "outputs": [],
   "source": [
    "import matplotlib.pyplot as plt\n",
    "import numpy as np\n",
    "from sklearn import datasets,neighbors\n",
    "from sklearn.model_selection import train_test_split\n",
    "from sklearn.model_selection import GridSearchCV,RandomizedSearchCV\n",
    "from sklearn.metrics import accuracy_score\n",
    "from sklearn.preprocessing import StandardScaler\n",
    "data = datasets.load_iris() #鸢尾花数据集\n",
    "x_train,x_test,y_train,y_test = train_test_split(data.data,data.target,test_size = 0.2,random_state =25)\n"
   ]
  },
  {
   "cell_type": "code",
   "execution_count": 7,
   "metadata": {},
   "outputs": [],
   "source": [
    "st = StandardScaler()\n",
    "st.fit(x_train)\n",
    "x_train = st.transform(x_train)\n",
    "x_test = st.transform(x_test)"
   ]
  },
  {
   "cell_type": "code",
   "execution_count": 8,
   "metadata": {},
   "outputs": [
    {
     "name": "stdout",
     "output_type": "stream",
     "text": [
      "0.7333333333333333\n",
      "0.7333333333333333\n"
     ]
    }
   ],
   "source": [
    "rnn = neighbors.RadiusNeighborsClassifier(radius=3)\n",
    "rnn.fit(x_train,y_train)\n",
    "y_pred = rnn.predict(x_test)\n",
    "print(accuracy_score(y_test,y_pred))\n",
    "print(rnn.score(x_test,y_test))"
   ]
  },
  {
   "cell_type": "code",
   "execution_count": 9,
   "metadata": {},
   "outputs": [
    {
     "name": "stdout",
     "output_type": "stream",
     "text": [
      "随机搜索-最佳度量值: 0.95\n",
      "随机搜索-最佳参数： {'weights': 'distance', 'radius': 4}\n",
      "随机搜索-最佳模型： RadiusNeighborsClassifier(radius=4, weights='distance')\n"
     ]
    }
   ],
   "source": [
    "param_grid = {\"radius\":range(1,25),\"weights\":[\"uniform\",\"distance\"]}\n",
    "rn = neighbors.RadiusNeighborsClassifier(radius = 5)\n",
    "grid = RandomizedSearchCV(rn,param_grid,cv = 10)\n",
    "grid.fit(x_train,y_train)\n",
    "\n",
    "print('随机搜索-最佳度量值:',grid.best_score_)  # 获取最佳度量值\n",
    "print('随机搜索-最佳参数：',grid.best_params_)  # 获取最佳度量值时的代定参数的值。是一个字典\n",
    "print('随机搜索-最佳模型：',grid.best_estimator_)  # 获取最佳度量时的分类器模型"
   ]
  },
  {
   "cell_type": "markdown",
   "metadata": {},
   "source": []
  }
 ],
 "metadata": {
  "interpreter": {
   "hash": "b667cebad148e7b094a58ee81f940c685de1dd70a003a9ccdca4a5792431bee5"
  },
  "kernelspec": {
   "display_name": "Python 3.9.1 64-bit",
   "language": "python",
   "name": "python3"
  },
  "language_info": {
   "codemirror_mode": {
    "name": "ipython",
    "version": 3
   },
   "file_extension": ".py",
   "mimetype": "text/x-python",
   "name": "python",
   "nbconvert_exporter": "python",
   "pygments_lexer": "ipython3",
   "version": "3.9.1"
  },
  "orig_nbformat": 4
 },
 "nbformat": 4,
 "nbformat_minor": 2
}
