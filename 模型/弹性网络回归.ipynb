{
 "cells": [
  {
   "cell_type": "markdown",
   "metadata": {},
   "source": [
    "弹性网络elastic net在具有多个特征，并且特征之间具有一定关联的数据中比较有用。"
   ]
  },
  {
   "cell_type": "code",
   "execution_count": 61,
   "metadata": {},
   "outputs": [],
   "source": [
    "import matplotlib.pyplot as plt\n",
    "import numpy as np\n",
    "from sklearn import datasets, linear_model\n",
    "from sklearn.metrics import mean_squared_error, r2_score\n",
    "from sklearn.model_selection import train_test_split\n",
    "from sklearn.preprocessing import StandardScaler\n",
    "from sklearn.model_selection import GridSearchCV,RandomizedSearchCV\n",
    "data = datasets.fetch_california_housing() #加利福尼亚房价数据集\n",
    "x_train,x_test,y_train,y_test = train_test_split(data.data,data.target,test_size = 0.2,random_state =25)"
   ]
  },
  {
   "cell_type": "code",
   "execution_count": 62,
   "metadata": {},
   "outputs": [],
   "source": [
    "st = StandardScaler()\n",
    "st.fit(x_train)\n",
    "x_train = st.transform(x_train)\n",
    "x_test = st.transform(x_test)"
   ]
  },
  {
   "cell_type": "code",
   "execution_count": 63,
   "metadata": {},
   "outputs": [
    {
     "name": "stdout",
     "output_type": "stream",
     "text": [
      "0.1 1e-10 -696.5701224912641\n"
     ]
    }
   ],
   "source": [
    "model = linear_model.ElasticNetCV(alphas = np.logspace(-1,0,50,base = 10),l1_ratio = np.logspace(-10,0,200,base = 10),random_state=1,cv = 5)\n",
    "model.fit(data.data,data.target)\n",
    "print(model.alpha_,model.l1_ratio_,model.score(x_test,y_test))\n",
    "#这个弹性网络有两个参数α和l1_ratio(ρ),还有一个random_state要设置为定值\n"
   ]
  },
  {
   "cell_type": "code",
   "execution_count": 64,
   "metadata": {},
   "outputs": [
    {
     "name": "stdout",
     "output_type": "stream",
     "text": [
      "ElasticNet(alpha=0.13894954943731375, l1_ratio=1.825183494319046e-08,\n",
      "           random_state=1)\n"
     ]
    }
   ],
   "source": [
    "param ={'alpha':np.logspace(-1,0,50,base = 10),\"l1_ratio\":np.logspace(-10,0,200,base = 10)}\n",
    "model = linear_model.ElasticNet(random_state=1)\n",
    "grid = RandomizedSearchCV(model,param,cv = 5)\n",
    "grid.fit(data.data,data.target)\n",
    "print(grid.best_estimator_)"
   ]
  }
 ],
 "metadata": {
  "interpreter": {
   "hash": "b667cebad148e7b094a58ee81f940c685de1dd70a003a9ccdca4a5792431bee5"
  },
  "kernelspec": {
   "display_name": "Python 3.9.1 64-bit",
   "language": "python",
   "name": "python3"
  },
  "language_info": {
   "codemirror_mode": {
    "name": "ipython",
    "version": 3
   },
   "file_extension": ".py",
   "mimetype": "text/x-python",
   "name": "python",
   "nbconvert_exporter": "python",
   "pygments_lexer": "ipython3",
   "version": "3.9.1"
  },
  "orig_nbformat": 4
 },
 "nbformat": 4,
 "nbformat_minor": 2
}
